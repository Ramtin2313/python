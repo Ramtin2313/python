{
 "cells": [
  {
   "cell_type": "markdown",
   "id": "30808c7a-bf65-4943-9fb0-7ed214a298e1",
   "metadata": {},
   "source": [
    "<div dir=\"rtl\" align=\"right\">\n",
    "\n",
    "## 📝 ترکیب رشته‌ها با استفاده از عملگر `+`\n",
    "متغیرهای زیر را در نظر بگیرید:\n",
    "\n",
    "first_name = \"ALI\"  \n",
    "last_name = \"REZAEI\"  \n",
    "age = 25  \n",
    "city = \"TEHRAN\"  \n",
    "\n",
    "با استفاده از عملگر `+`، رشته‌ای بسازید که جمله‌ی زیر را تولید کند:\n",
    "\n",
    "**My name is ALI REZAEI and I am 25 years old from TEHRAN.**\n",
    "\n",
    "</div>\n"
   ]
  },
  {
   "cell_type": "code",
   "execution_count": 5,
   "id": "e9f9170b",
   "metadata": {},
   "outputs": [],
   "source": [
    "first_name = \"ALI\"  \n",
    "last_name = \"REZAEI\"\n",
    "age = 25\n",
    "city = \"Tehran\" "
   ]
  },
  {
   "cell_type": "code",
   "execution_count": 6,
   "id": "f6fc463c-b6c2-4e41-bcb0-d3cc3d726b5d",
   "metadata": {},
   "outputs": [
    {
     "name": "stdout",
     "output_type": "stream",
     "text": [
      "my name is ALI REZAEI and I am 25 years old from Tehran.\n"
     ]
    }
   ],
   "source": [
    "personal_information = \"my name is \" + first_name + \" \" + last_name + \" and I am \" + str(age) + \" years old from \" + city + \".\"\n",
    "print(personal_information)"
   ]
  },
  {
   "cell_type": "markdown",
   "id": "8341af5d-2158-45ac-8a87-eee253f9638b",
   "metadata": {},
   "source": [
    "<div dir=\"rtl\" align=\"right\">\n",
    "\n",
    "## 📝 استفاده از متد `format` برای فرمت‌بندی رشته‌ها  \n",
    "با استفاده از متغیرهای تمرین قبل، رشته‌ای بسازید که جمله‌ی زیر را تولید کند:  \n",
    "\n",
    "**TEHRAN, ALI REZAEI, 25 years old**\n",
    "\n",
    "</div>\n"
   ]
  },
  {
   "cell_type": "code",
   "execution_count": 7,
   "id": "adba31d2-538b-4923-a966-7629197fe261",
   "metadata": {},
   "outputs": [
    {
     "name": "stdout",
     "output_type": "stream",
     "text": [
      "Tehran, ALI REZAEI, 25 years old\n"
     ]
    }
   ],
   "source": [
    "formatted = \"{}, {} {}, {} years old\".format(city, first_name, last_name, age)\n",
    "print(formatted)"
   ]
  },
  {
   "cell_type": "markdown",
   "id": "d934595e-b6c7-4536-b2a8-7d69fcfbed3b",
   "metadata": {},
   "source": [
    "<div dir=\"rtl\" align=\"right\">\n",
    "\n",
    "## 📝 فرمت‌بندی اعداد اعشاری  \n",
    "فرض کنید متغیری به نام `gpa` دارید که مقدار آن `17.2567` است.  \n",
    "با استفاده از فرمت‌بندی، این مقدار را تا دو رقم اعشار نمایش دهید.\n",
    "\n",
    "</div>\n"
   ]
  },
  {
   "cell_type": "code",
   "execution_count": 8,
   "id": "e652b052-82cf-43b8-904a-0581b29a2b58",
   "metadata": {},
   "outputs": [
    {
     "name": "stdout",
     "output_type": "stream",
     "text": [
      "17.26\n"
     ]
    }
   ],
   "source": [
    "gpa = 17.2567\n",
    "formatted_gpa = \"{:.2f}\". format(gpa)\n",
    "print(formatted_gpa)"
   ]
  },
  {
   "cell_type": "markdown",
   "id": "609636a6-93fe-4cc2-8cab-6ad1a332c3cf",
   "metadata": {},
   "source": [
    "<div dir=\"rtl\" align=\"right\">\n",
    "\n",
    "## 📝 استفاده از `f-strings` برای فرمت‌بندی  \n",
    "با استفاده از `f-strings` (در پایتون 3.6 به بعد)، جمله‌ی زیر را تولید کنید:  \n",
    "\n",
    "**ALI REZAEI 25 years old from TEHRAN.**\n",
    "\n",
    "</div>\n"
   ]
  },
  {
   "cell_type": "code",
   "execution_count": 9,
   "id": "e92b2093-23bc-4ea3-99e0-8a5f7a197880",
   "metadata": {},
   "outputs": [
    {
     "name": "stdout",
     "output_type": "stream",
     "text": [
      "ALI REZAEI 25 years old from Tehran.\n"
     ]
    }
   ],
   "source": [
    "f_string = f\"{first_name} {last_name} {age} years old from {city}.\" \n",
    "print(f_string)"
   ]
  },
  {
   "cell_type": "markdown",
   "id": "ab369a96-f275-4194-b31d-973c225622a7",
   "metadata": {},
   "source": [
    "<div dir=\"rtl\" align=\"right\">\n",
    "\n",
    "## 📝 تبدیل رشته به حروف بزرگ و کوچک  \n",
    "رشته‌ی `university = \"University of Tehran\"` را به حروف بزرگ و سپس به حروف کوچک تبدیل کنید.\n",
    "\n",
    "</div>\n"
   ]
  },
  {
   "cell_type": "code",
   "execution_count": 1,
   "id": "3cb9fddd-53fb-4e7b-93a0-44a01b8c189c",
   "metadata": {},
   "outputs": [
    {
     "name": "stdout",
     "output_type": "stream",
     "text": [
      "UNIVERSITY OF TEHRAN\n",
      "university of tehran\n"
     ]
    }
   ],
   "source": [
    "university = \"University of Tehran\"\n",
    "new = university.upper()\n",
    "new2 = university.lower()\n",
    "print(new)\n",
    "print(new2)\n"
   ]
  },
  {
   "cell_type": "markdown",
   "id": "1b01be7b-e141-4c39-ab05-7828787d52e9",
   "metadata": {},
   "source": [
    "<div dir=\"rtl\" align=\"right\">\n",
    "\n",
    "## 📝 جایگزینی زیررشته در یک رشته  \n",
    "در رشته‌ی `message = \"I live in Isfahan.\"`، کلمه‌ی `\"Isfahan\"` را با `\"Shiraz\"` جایگزین کنید.\n",
    "\n",
    "</div>\n"
   ]
  },
  {
   "cell_type": "code",
   "execution_count": 1,
   "id": "7a40dda8-6383-434b-9a14-f107cab7c758",
   "metadata": {},
   "outputs": [
    {
     "name": "stdout",
     "output_type": "stream",
     "text": [
      "I live in Shiraz.\n"
     ]
    }
   ],
   "source": [
    "message = \"I live in Isfahan.\"\n",
    "new_message = message.replace(\"Isfahan\",\"Shiraz\")\n",
    "print(new_message)"
   ]
  },
  {
   "cell_type": "markdown",
   "id": "767407bf-e88b-48dd-af2a-df0c782fe782",
   "metadata": {},
   "source": [
    "<div dir=\"rtl\" align=\"right\">\n",
    "\n",
    "## 📝 حذف فاصله‌های اضافی از ابتدا و انتهای رشته  \n",
    "رشته‌ی `data = \"   Python is a powerful programming language.   \"` را در نظر بگیرید.  \n",
    "فاصله‌های اضافی ابتدا و انتهای آن را حذف کنید.\n",
    "\n",
    "</div>\n"
   ]
  },
  {
   "cell_type": "code",
   "execution_count": 3,
   "id": "6c67db2a-8272-48f7-ae18-bed92d44b806",
   "metadata": {},
   "outputs": [
    {
     "name": "stdout",
     "output_type": "stream",
     "text": [
      "python is a powerful programming language .\n"
     ]
    }
   ],
   "source": [
    "data = \" python is a powerful programming language .\"\n",
    "new_data = data.strip()\n",
    "print(new_data)"
   ]
  },
  {
   "cell_type": "markdown",
   "id": "6b75d772-15da-495c-a5d1-a52e06214485",
   "metadata": {},
   "source": [
    "<div dir=\"rtl\" align=\"right\">\n",
    "\n",
    "## 📝 بررسی شروع و پایان رشته  \n",
    "بررسی کنید که آیا رشته‌ی `filename = \"report.pdf\"` با `\"report\"` شروع می‌شود و با `\".pdf\"` پایان می‌یابد یا خیر.\n",
    "\n",
    "</div>\n"
   ]
  },
  {
   "cell_type": "code",
   "execution_count": 4,
   "id": "a9edc71b-084a-4856-9815-94f75edfb047",
   "metadata": {},
   "outputs": [
    {
     "name": "stdout",
     "output_type": "stream",
     "text": [
      "True\n",
      "True\n"
     ]
    }
   ],
   "source": [
    "filename = \"report pdf.\"\n",
    "starts_with_report = filename.startswith(\"report\")\n",
    "ends_with_pdf = filename.endswith(\"pdf.\")\n"
   ]
  },
  {
   "cell_type": "markdown",
   "id": "7400a8bf-5d87-4abe-b72b-86e3f181a54d",
   "metadata": {},
   "source": []
  },
  {
   "cell_type": "code",
   "execution_count": 5,
   "id": "b654e746-cb09-4a97-8c12-37734a3bb44f",
   "metadata": {},
   "outputs": [
    {
     "name": "stdout",
     "output_type": "stream",
     "text": [
      "True\n"
     ]
    }
   ],
   "source": [
    "print(starts_with_report)"
   ]
  },
  {
   "cell_type": "code",
   "execution_count": 6,
   "id": "b4c08bc3-f496-487b-b274-84f8b90836ff",
   "metadata": {},
   "outputs": [
    {
     "name": "stdout",
     "output_type": "stream",
     "text": [
      "True\n"
     ]
    }
   ],
   "source": [
    "\n",
    "print(ends_with_pdf)"
   ]
  }
 ],
 "metadata": {
  "kernelspec": {
   "display_name": "Python 3.13.2 64-bit",
   "language": "python",
   "name": "python3"
  },
  "language_info": {
   "codemirror_mode": {
    "name": "ipython",
    "version": 3
   },
   "file_extension": ".py",
   "mimetype": "text/x-python",
   "name": "python",
   "nbconvert_exporter": "python",
   "pygments_lexer": "ipython3",
   "version": "3.13.2"
  },
  "vscode": {
   "interpreter": {
    "hash": "270f83fb4e78bbe4cefa60d64462338e9adf00512e7cbd2a04dd4a06acdcc59a"
   }
  }
 },
 "nbformat": 4,
 "nbformat_minor": 5
}
