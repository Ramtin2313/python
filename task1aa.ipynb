{
 "cells": [
  {
   "cell_type": "markdown",
   "id": "2745bd88-0c78-48fe-ba1b-dc3915302e69",
   "metadata": {},
   "source": [
    "<div dir=\"rtl\" style=\"text-align: right;\">\n",
    "\n",
    "### تمرین ۱:\n",
    "برنامه‌ای بنویسید که سه عدد از ورودی دریافت کند و **بزرگ‌ترین عدد** را بدون استفاده از حلقه‌ها و توابع آماده max() یا sorted() پیدا کند.\n"
   ]
  },
  {
   "cell_type": "code",
   "execution_count": 1,
   "id": "30929b6e-f570-499e-a8e2-18f6a8ab60ee",
   "metadata": {},
   "outputs": [],
   "source": [
    "a = 10\n",
    "b = 5\n",
    "c = 3"
   ]
  },
  {
   "cell_type": "code",
   "execution_count": 2,
   "id": "6122bd09",
   "metadata": {},
   "outputs": [],
   "source": [
    "# پیدا کردن بزرگترین عدد\n",
    "if a >= b and a >= c :\n",
    "    max_num = a\n",
    "elif b >= a and b >= c :\n",
    "    max_num = b\n",
    "else:\n",
    "    max_num = c\n"
   ]
  },
  {
   "cell_type": "code",
   "execution_count": 4,
   "id": "b1db39da",
   "metadata": {},
   "outputs": [
    {
     "name": "stdout",
     "output_type": "stream",
     "text": [
      "نمایش بزرگترین عدد: 10\n"
     ]
    }
   ],
   "source": [
    "print(\"نمایش بزرگترین عدد:\", max_num)"
   ]
  },
  {
   "cell_type": "markdown",
   "id": "88361208-cd5a-4f11-a4e5-9c0177a7a663",
   "metadata": {},
   "source": [
    "<div dir=\"rtl\" style=\"text-align: right;\">\n",
    "\n",
    "### تمرین ۲:\n",
    "برنامه‌ای بنویسید که مقدار **RGB** سه رنگ را از ورودی دریافت کند و بررسی کند آیا رنگ **روشن است یا تیره**. اگر میانگین (R+G+B)/3 بزرگ‌تر از **۱۲۸** بود، خروجی True و در غیر این صورت False باشد.\n"
   ]
  },
  {
   "cell_type": "code",
   "execution_count": 5,
   "id": "473193b5-d417-4d33-8663-eea309a54081",
   "metadata": {},
   "outputs": [],
   "source": [
    "R = 20\n",
    "G = 50 \n",
    "B = 80 \n"
   ]
  },
  {
   "cell_type": "code",
   "execution_count": 6,
   "id": "884e42f8",
   "metadata": {},
   "outputs": [],
   "source": [
    "brightness = (R + G + B) / 3\n",
    "\n",
    "is_light = brightness > 128"
   ]
  },
  {
   "cell_type": "code",
   "execution_count": 7,
   "id": "bc1021f8",
   "metadata": {},
   "outputs": [
    {
     "name": "stdout",
     "output_type": "stream",
     "text": [
      "False\n"
     ]
    }
   ],
   "source": [
    "print(is_light)"
   ]
  },
  {
   "cell_type": "markdown",
   "id": "b47e92c9-5c83-4589-8b6f-bc39030dc127",
   "metadata": {},
   "source": [
    "<div dir=\"rtl\" style=\"text-align: right;\">\n",
    "\n",
    "### تمرین ۴:\n",
    "برنامه‌ای بنویسید که سه طول از ورودی دریافت کند و بررسی کند که آیا این سه عدد می‌توانند تشکیل **یک مثلث معتبر** بدهند یا خیر. (شرط اعتبار یک مثلث: مجموع هر دو ضلع باید بزرگ‌تر از ضلع سوم باشد.)\n"
   ]
  },
  {
   "cell_type": "code",
   "execution_count": 8,
   "id": "f1aa27f7-6ac8-4e8b-a0f4-e255ccfc0dae",
   "metadata": {},
   "outputs": [],
   "source": [
    "#a=ضلع اول ، b= ضلع دوم، c= ضلع سوم\n",
    "a = 10\n",
    "b = 20\n",
    "c = 15\n"
   ]
  },
  {
   "cell_type": "code",
   "execution_count": 10,
   "id": "ea60809d",
   "metadata": {},
   "outputs": [],
   "source": [
    "is_valid_triangle = (a + b > c)  "
   ]
  },
  {
   "cell_type": "code",
   "execution_count": 11,
   "id": "dbfba597",
   "metadata": {},
   "outputs": [
    {
     "name": "stdout",
     "output_type": "stream",
     "text": [
      "True\n"
     ]
    }
   ],
   "source": [
    "print(is_valid_triangle)"
   ]
  },
  {
   "cell_type": "markdown",
   "id": "d5cfa92a-0053-4a65-ba41-bf3e5cd4fb9d",
   "metadata": {},
   "source": [
    "<div dir=\"rtl\" style=\"text-align: right;\">\n",
    "\n",
    "### تمرین ۳:\n",
    "برنامه‌ای بنویسید که یک عدد صحیح از ورودی دریافت کند و تعیین کند که آیا عدد **مضربی از ۳ یا ۵** است یا خیر. اگر عدد مضرب یکی از این دو بود، True و در غیر این صورت False چاپ کند.\n"
   ]
  },
  {
   "cell_type": "code",
   "execution_count": 12,
   "id": "0c1fdcf9-2735-41bc-98dd-0f3f9e1a65be",
   "metadata": {},
   "outputs": [
    {
     "name": "stdout",
     "output_type": "stream",
     "text": [
      "False\n"
     ]
    }
   ],
   "source": [
    "number = 28\n",
    "is_multiple = (number % 3 == 0) or (number % 5 == 0)\n",
    "print(is_multiple)"
   ]
  },
  {
   "cell_type": "markdown",
   "id": "c04c7990-0e72-4034-ad96-0c49afc7f2f1",
   "metadata": {},
   "source": [
    "<div dir=\"rtl\" style=\"text-align: right;\">\n",
    "\n",
    "### تمرین ۵:\n",
    "برنامه‌ای بنویسید که ضرایب یک معادله درجه دوم **\\( ax^2 + bx + c = 0 \\)** را از ورودی دریافت کرده و **ریشه‌های آن را محاسبه کند.**  \n",
    "اگر معادله **ریشه حقیقی ندارد**، پیام مناسبی نمایش داده شود.\n",
    "\n",
    "#### فرمول محاسبه ریشه‌ها:\n",
    "$$\n",
    "x = \\frac{-b \\pm \\sqrt{b^2 - 4ac}}{2a}\n",
    "$$\n",
    "\n",
    "</div>"
   ]
  },
  {
   "cell_type": "code",
   "execution_count": 1,
   "id": "114279e1-f150-47a2-a61a-cbd65da07b7c",
   "metadata": {},
   "outputs": [
    {
     "name": "stdout",
     "output_type": "stream",
     "text": [
      "معادله ریشه حقیقی ندارد.\n"
     ]
    }
   ],
   "source": [
    "a = 6\n",
    "b = 4\n",
    "c = 8\n",
    "\n",
    "delta = b**2 - 4*a*c\n",
    "\n",
    "if delta > 0:\n",
    "    x1 = (-b + math.sqrt(delta)) / (2*a)\n",
    "    x2 = (-b - math.sqrt(delta)) / (2*a)\n",
    "    print(\"ریشه های معادله:\", x1, \"and\", x2)\n",
    "elif delta == 0:\n",
    "    x = -b / (2*a)\n",
    "    print(\"معادله یک ریشه دارد:\", x)  \n",
    "else:\n",
    "    print(\"معادله ریشه حقیقی ندارد.\")    "
   ]
  },
  {
   "cell_type": "markdown",
   "id": "886027b3-170e-46d2-b26b-a94e03553844",
   "metadata": {},
   "source": [
    "<div dir=\"rtl\" style=\"text-align: right;\">\n",
    "\n",
    "### تمرین 6:\n",
    "برنامه‌ای بنویسید که یک عدد **\\( x \\)** را از ورودی دریافت کرده و مقدار تابع **\\( y \\)** را طبق رابطه زیر محاسبه کند:\n",
    "\n",
    "\\[\n",
    "y =\n",
    "\\begin{cases} \n",
    "2x + 5, & x > 10 \\\\ \n",
    "x^2 - 4x + 7, & 0 \\leq x \\leq 10 \\\\ \n",
    "|x| + 3, & x < 0 \n",
    "\\end{cases}\n",
    "\\]\n",
    "\n",
    "</div>"
   ]
  },
  {
   "cell_type": "code",
   "execution_count": 2,
   "id": "01f3d41e-f523-4a45-9175-e0c9c812164c",
   "metadata": {},
   "outputs": [
    {
     "name": "stdout",
     "output_type": "stream",
     "text": [
      "55\n"
     ]
    }
   ],
   "source": [
    "x = 25\n",
    "if x > 10:\n",
    "    y = 2 * x + 5\n",
    "elif 0 <= x <= 10:\n",
    "    y = x**2 - 4*x + 7\n",
    "else: \n",
    "    y = abs(x) + 3\n",
    "\n",
    "print(y)"
   ]
  }
 ],
 "metadata": {
  "kernelspec": {
   "display_name": "Python 3.13.2 64-bit",
   "language": "python",
   "name": "python3"
  },
  "language_info": {
   "codemirror_mode": {
    "name": "ipython",
    "version": 3
   },
   "file_extension": ".py",
   "mimetype": "text/x-python",
   "name": "python",
   "nbconvert_exporter": "python",
   "pygments_lexer": "ipython3",
   "version": "3.13.2"
  },
  "vscode": {
   "interpreter": {
    "hash": "270f83fb4e78bbe4cefa60d64462338e9adf00512e7cbd2a04dd4a06acdcc59a"
   }
  }
 },
 "nbformat": 4,
 "nbformat_minor": 5
}
